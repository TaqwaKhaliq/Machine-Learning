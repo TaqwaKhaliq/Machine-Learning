{
 "cells": [
  {
   "cell_type": "markdown",
   "id": "8d10f8c7",
   "metadata": {},
   "source": [
    "# Numpy\n"
   ]
  },
  {
   "cell_type": "markdown",
   "id": "49708e99",
   "metadata": {},
   "source": [
    "## Arrays\n",
    "\n",
    "* Faster\n",
    "* Contigous Memory Allocation\n",
    "* Same Data Type\n",
    "* If you want to increase size,recreate array\n",
    "\n",
    "## List\n",
    "  \n",
    "* Slow\n",
    "* Sparse Memory\n",
    "* Differential Data types\n",
    "* Can dynamically grow"
   ]
  },
  {
   "cell_type": "markdown",
   "id": "ef775966",
   "metadata": {},
   "source": [
    "### Numpy VS  List in Python"
   ]
  },
  {
   "cell_type": "code",
   "execution_count": 4,
   "id": "f1734268",
   "metadata": {},
   "outputs": [],
   "source": [
    "import numpy as np"
   ]
  },
  {
   "cell_type": "code",
   "execution_count": 5,
   "id": "58291693",
   "metadata": {},
   "outputs": [],
   "source": [
    "python_list=range(1000000)  #A list from 0 to 1000000"
   ]
  },
  {
   "cell_type": "code",
   "execution_count": 6,
   "id": "fc423d07",
   "metadata": {},
   "outputs": [],
   "source": [
    "numpy_array=np.arange(1000000) # An array from 0 to 1000000"
   ]
  },
  {
   "cell_type": "markdown",
   "id": "4eb68268",
   "metadata": {},
   "source": [
    "### multiply a list with 5,  1000 times using list comprehension"
   ]
  },
  {
   "cell_type": "code",
   "execution_count": 7,
   "id": "214ab771",
   "metadata": {},
   "outputs": [
    {
     "name": "stdout",
     "output_type": "stream",
     "text": [
      "CPU times: total: 172 ms\n",
      "Wall time: 190 ms\n"
     ]
    }
   ],
   "source": [
    "%time for i in range(100): result=numpy_array* 5"
   ]
  },
  {
   "cell_type": "markdown",
   "id": "5c06f785",
   "metadata": {},
   "source": [
    "### multiply numpy array with 5, 1000 times"
   ]
  },
  {
   "cell_type": "code",
   "execution_count": 8,
   "id": "e937a795",
   "metadata": {},
   "outputs": [
    {
     "name": "stdout",
     "output_type": "stream",
     "text": [
      "CPU times: total: 203 ms\n",
      "Wall time: 195 ms\n"
     ]
    }
   ],
   "source": [
    "%time for i in range(100): result = numpy_array * 5"
   ]
  },
  {
   "cell_type": "markdown",
   "id": "c7575871",
   "metadata": {},
   "source": [
    "### Numpy array creation methods"
   ]
  },
  {
   "cell_type": "code",
   "execution_count": 9,
   "id": "7e76415c",
   "metadata": {},
   "outputs": [
    {
     "data": {
      "text/plain": [
       "array([0., 0., 0., 0., 0., 0., 0., 0., 0., 0.])"
      ]
     },
     "execution_count": 9,
     "metadata": {},
     "output_type": "execute_result"
    }
   ],
   "source": [
    "one_d_array=np.zeros(10)\n",
    "one_d_array "
   ]
  },
  {
   "cell_type": "code",
   "execution_count": 10,
   "id": "137ccdb9",
   "metadata": {},
   "outputs": [
    {
     "data": {
      "text/plain": [
       "array([1., 1., 1., 1., 1., 1., 1., 1., 1., 1.])"
      ]
     },
     "execution_count": 10,
     "metadata": {},
     "output_type": "execute_result"
    }
   ],
   "source": [
    "one_d_array = np.ones((10))\n",
    "one_d_array"
   ]
  },
  {
   "cell_type": "code",
   "execution_count": 11,
   "id": "931f9238",
   "metadata": {},
   "outputs": [
    {
     "data": {
      "text/plain": [
       "array([2., 2., 2., 2., 2., 2., 2., 2., 2., 2.])"
      ]
     },
     "execution_count": 11,
     "metadata": {},
     "output_type": "execute_result"
    }
   ],
   "source": [
    "one_d_array*2"
   ]
  },
  {
   "cell_type": "code",
   "execution_count": 12,
   "id": "8ea627c2",
   "metadata": {},
   "outputs": [
    {
     "data": {
      "text/plain": [
       "array([5., 5., 5., 5., 5., 5., 5., 5., 5., 5.])"
      ]
     },
     "execution_count": 12,
     "metadata": {},
     "output_type": "execute_result"
    }
   ],
   "source": [
    "#Creating array of any number\n",
    "x=np.zeros(10)\n",
    "x=x+5\n",
    "x"
   ]
  },
  {
   "cell_type": "code",
   "execution_count": 13,
   "id": "d64b3ace",
   "metadata": {},
   "outputs": [
    {
     "data": {
      "text/plain": [
       "array([ 1,  2,  3,  4,  5,  6,  7,  8,  9, 10])"
      ]
     },
     "execution_count": 13,
     "metadata": {},
     "output_type": "execute_result"
    }
   ],
   "source": [
    "x=np.arange(1,11)\n",
    "x"
   ]
  },
  {
   "cell_type": "code",
   "execution_count": 14,
   "id": "00c0d4f0",
   "metadata": {},
   "outputs": [
    {
     "data": {
      "text/plain": [
       "array([[[0., 0., 0., 0., 0.],\n",
       "        [0., 0., 0., 0., 0.]],\n",
       "\n",
       "       [[0., 0., 0., 0., 0.],\n",
       "        [0., 0., 0., 0., 0.]],\n",
       "\n",
       "       [[0., 0., 0., 0., 0.],\n",
       "        [0., 0., 0., 0., 0.]]])"
      ]
     },
     "execution_count": 14,
     "metadata": {},
     "output_type": "execute_result"
    }
   ],
   "source": [
    "# Shape of array\n",
    "x=np.zeros((3,2,5))\n",
    "x "
   ]
  },
  {
   "cell_type": "code",
   "execution_count": 15,
   "id": "dcc7314c",
   "metadata": {},
   "outputs": [
    {
     "data": {
      "text/plain": [
       "(3, 2, 5)"
      ]
     },
     "execution_count": 15,
     "metadata": {},
     "output_type": "execute_result"
    }
   ],
   "source": [
    "x.shape"
   ]
  },
  {
   "cell_type": "markdown",
   "id": "f9ffb437",
   "metadata": {},
   "source": [
    "### Array of custom elements"
   ]
  },
  {
   "cell_type": "code",
   "execution_count": 16,
   "id": "1d191e03",
   "metadata": {},
   "outputs": [
    {
     "data": {
      "text/plain": [
       "array([ 1,  3,  7,  9, 10, 16, 78, 18])"
      ]
     },
     "execution_count": 16,
     "metadata": {},
     "output_type": "execute_result"
    }
   ],
   "source": [
    "x=np.array([1,3,7,9,10,16,78,18])\n",
    "x"
   ]
  },
  {
   "cell_type": "code",
   "execution_count": 17,
   "id": "80da6418",
   "metadata": {},
   "outputs": [
    {
     "data": {
      "text/plain": [
       "(8,)"
      ]
     },
     "execution_count": 17,
     "metadata": {},
     "output_type": "execute_result"
    }
   ],
   "source": [
    "x.shape"
   ]
  },
  {
   "cell_type": "code",
   "execution_count": 18,
   "id": "36cb30f3",
   "metadata": {},
   "outputs": [
    {
     "data": {
      "text/plain": [
       "array([[ 1,  3,  7,  9],\n",
       "       [10, 16, 78, 18]])"
      ]
     },
     "execution_count": 18,
     "metadata": {},
     "output_type": "execute_result"
    }
   ],
   "source": [
    "y=x.reshape((2,4))\n",
    "y"
   ]
  },
  {
   "cell_type": "code",
   "execution_count": 19,
   "id": "147eebe1",
   "metadata": {},
   "outputs": [
    {
     "data": {
      "text/plain": [
       "(2, 4)"
      ]
     },
     "execution_count": 19,
     "metadata": {},
     "output_type": "execute_result"
    }
   ],
   "source": [
    "y.shape"
   ]
  },
  {
   "cell_type": "code",
   "execution_count": 20,
   "id": "ce976d4d",
   "metadata": {},
   "outputs": [
    {
     "data": {
      "text/plain": [
       "2"
      ]
     },
     "execution_count": 20,
     "metadata": {},
     "output_type": "execute_result"
    }
   ],
   "source": [
    "y.ndim"
   ]
  },
  {
   "cell_type": "code",
   "execution_count": 21,
   "id": "5bdc7692",
   "metadata": {},
   "outputs": [
    {
     "data": {
      "text/plain": [
       "array([[ 1,  3,  7,  9],\n",
       "       [10, 16, 78, 18]])"
      ]
     },
     "execution_count": 21,
     "metadata": {},
     "output_type": "execute_result"
    }
   ],
   "source": [
    "y"
   ]
  },
  {
   "cell_type": "markdown",
   "id": "140099f5",
   "metadata": {},
   "source": [
    "# Accessing individual elements of array"
   ]
  },
  {
   "cell_type": "code",
   "execution_count": 22,
   "id": "110822a1",
   "metadata": {},
   "outputs": [
    {
     "data": {
      "text/plain": [
       "9"
      ]
     },
     "execution_count": 22,
     "metadata": {},
     "output_type": "execute_result"
    }
   ],
   "source": [
    "y[0,3] #accessing only by specifying columns"
   ]
  },
  {
   "cell_type": "code",
   "execution_count": 23,
   "id": "88633e66",
   "metadata": {},
   "outputs": [
    {
     "data": {
      "text/plain": [
       "78"
      ]
     },
     "execution_count": 23,
     "metadata": {},
     "output_type": "execute_result"
    }
   ],
   "source": [
    "y[1,2] #accessing by specifying (row,column)"
   ]
  },
  {
   "cell_type": "code",
   "execution_count": 24,
   "id": "9ffbbb6c",
   "metadata": {},
   "outputs": [],
   "source": [
    "z = y.reshape((2,2,2))"
   ]
  },
  {
   "cell_type": "code",
   "execution_count": 25,
   "id": "2a96b1cc",
   "metadata": {},
   "outputs": [
    {
     "data": {
      "text/plain": [
       "array([[[ 1,  3],\n",
       "        [ 7,  9]],\n",
       "\n",
       "       [[10, 16],\n",
       "        [78, 18]]])"
      ]
     },
     "execution_count": 25,
     "metadata": {},
     "output_type": "execute_result"
    }
   ],
   "source": [
    "z"
   ]
  },
  {
   "cell_type": "code",
   "execution_count": 26,
   "id": "80d50ff0",
   "metadata": {},
   "outputs": [
    {
     "data": {
      "text/plain": [
       "9"
      ]
     },
     "execution_count": 26,
     "metadata": {},
     "output_type": "execute_result"
    }
   ],
   "source": [
    "z[0,1,1]"
   ]
  },
  {
   "cell_type": "code",
   "execution_count": 27,
   "id": "e4d4ce59",
   "metadata": {},
   "outputs": [
    {
     "data": {
      "text/plain": [
       "3"
      ]
     },
     "execution_count": 27,
     "metadata": {},
     "output_type": "execute_result"
    }
   ],
   "source": [
    "z.ndim"
   ]
  },
  {
   "cell_type": "code",
   "execution_count": 28,
   "id": "cca3154f",
   "metadata": {},
   "outputs": [
    {
     "data": {
      "text/plain": [
       "dtype('int32')"
      ]
     },
     "execution_count": 28,
     "metadata": {},
     "output_type": "execute_result"
    }
   ],
   "source": [
    "z.dtype"
   ]
  },
  {
   "cell_type": "markdown",
   "id": "0ef58645",
   "metadata": {},
   "source": [
    "# Slicing"
   ]
  },
  {
   "cell_type": "code",
   "execution_count": 29,
   "id": "6868f605",
   "metadata": {},
   "outputs": [
    {
     "data": {
      "text/plain": [
       "array([[ 1,  3,  7,  9],\n",
       "       [10, 16, 78, 18]])"
      ]
     },
     "execution_count": 29,
     "metadata": {},
     "output_type": "execute_result"
    }
   ],
   "source": [
    "y"
   ]
  },
  {
   "cell_type": "code",
   "execution_count": 30,
   "id": "4f94fc17",
   "metadata": {},
   "outputs": [],
   "source": [
    "#Slicing :Start,end, step\n",
    "y=y.reshape(4,2)   #(row,column)"
   ]
  },
  {
   "cell_type": "code",
   "execution_count": 31,
   "id": "eadf5b2a",
   "metadata": {},
   "outputs": [
    {
     "data": {
      "text/plain": [
       "array([[ 1,  3],\n",
       "       [ 7,  9],\n",
       "       [10, 16],\n",
       "       [78, 18]])"
      ]
     },
     "execution_count": 31,
     "metadata": {},
     "output_type": "execute_result"
    }
   ],
   "source": [
    "y"
   ]
  },
  {
   "cell_type": "code",
   "execution_count": 32,
   "id": "eb1167bb",
   "metadata": {},
   "outputs": [
    {
     "data": {
      "text/plain": [
       "array([[ 1,  3],\n",
       "       [ 7,  9],\n",
       "       [10, 16]])"
      ]
     },
     "execution_count": 32,
     "metadata": {},
     "output_type": "execute_result"
    }
   ],
   "source": [
    "y[0:3]"
   ]
  },
  {
   "cell_type": "code",
   "execution_count": 33,
   "id": "01bdfb73",
   "metadata": {},
   "outputs": [
    {
     "data": {
      "text/plain": [
       "array([[ 1,  3],\n",
       "       [ 7,  9],\n",
       "       [10, 16],\n",
       "       [78, 18]])"
      ]
     },
     "execution_count": 33,
     "metadata": {},
     "output_type": "execute_result"
    }
   ],
   "source": [
    "y"
   ]
  },
  {
   "cell_type": "code",
   "execution_count": 34,
   "id": "c8270538",
   "metadata": {},
   "outputs": [
    {
     "data": {
      "text/plain": [
       "array([ 3,  9, 16])"
      ]
     },
     "execution_count": 34,
     "metadata": {},
     "output_type": "execute_result"
    }
   ],
   "source": [
    "y[0:3,1]"
   ]
  },
  {
   "cell_type": "code",
   "execution_count": 35,
   "id": "994ebf75",
   "metadata": {},
   "outputs": [
    {
     "data": {
      "text/plain": [
       "array([[ 1,  3],\n",
       "       [ 7,  9],\n",
       "       [10, 16],\n",
       "       [78, 18]])"
      ]
     },
     "execution_count": 35,
     "metadata": {},
     "output_type": "execute_result"
    }
   ],
   "source": [
    "y"
   ]
  },
  {
   "cell_type": "code",
   "execution_count": 36,
   "id": "f91b5694",
   "metadata": {},
   "outputs": [
    {
     "data": {
      "text/plain": [
       "array([[ 1,  3],\n",
       "       [10, 16]])"
      ]
     },
     "execution_count": 36,
     "metadata": {},
     "output_type": "execute_result"
    }
   ],
   "source": [
    "y[::2]"
   ]
  },
  {
   "cell_type": "code",
   "execution_count": 37,
   "id": "394496c8",
   "metadata": {},
   "outputs": [
    {
     "data": {
      "text/plain": [
       "array([[ 1,  3],\n",
       "       [ 7,  9],\n",
       "       [10, 16],\n",
       "       [78, 18]])"
      ]
     },
     "execution_count": 37,
     "metadata": {},
     "output_type": "execute_result"
    }
   ],
   "source": [
    "y"
   ]
  },
  {
   "cell_type": "code",
   "execution_count": 38,
   "id": "25bd014c",
   "metadata": {},
   "outputs": [
    {
     "data": {
      "text/plain": [
       "array([ 1,  7, 10, 78])"
      ]
     },
     "execution_count": 38,
     "metadata": {},
     "output_type": "execute_result"
    }
   ],
   "source": [
    "y[::,0]"
   ]
  },
  {
   "cell_type": "code",
   "execution_count": 39,
   "id": "d53faacd",
   "metadata": {},
   "outputs": [
    {
     "data": {
      "text/plain": [
       "array([ 1,  3,  7,  9, 10, 16, 78, 18])"
      ]
     },
     "execution_count": 39,
     "metadata": {},
     "output_type": "execute_result"
    }
   ],
   "source": [
    "x"
   ]
  },
  {
   "cell_type": "markdown",
   "id": "2507e6d3",
   "metadata": {},
   "source": [
    "# Fancy Indexing\n"
   ]
  },
  {
   "cell_type": "code",
   "execution_count": 40,
   "id": "8c892640",
   "metadata": {},
   "outputs": [
    {
     "data": {
      "text/plain": [
       "array([ 9, 16])"
      ]
     },
     "execution_count": 40,
     "metadata": {},
     "output_type": "execute_result"
    }
   ],
   "source": [
    "x[[3,5]]"
   ]
  },
  {
   "cell_type": "code",
   "execution_count": 41,
   "id": "148f24ef",
   "metadata": {},
   "outputs": [
    {
     "data": {
      "text/plain": [
       "array([78,  7])"
      ]
     },
     "execution_count": 41,
     "metadata": {},
     "output_type": "execute_result"
    }
   ],
   "source": [
    "x[[6,2]]"
   ]
  },
  {
   "cell_type": "markdown",
   "id": "f69754c1",
   "metadata": {},
   "source": [
    "# Vectorized Operations"
   ]
  },
  {
   "cell_type": "code",
   "execution_count": 42,
   "id": "d770bbff",
   "metadata": {},
   "outputs": [],
   "source": [
    "x = np.array([1,5,7])\n",
    "y = np.array([3,2,9])"
   ]
  },
  {
   "cell_type": "code",
   "execution_count": 43,
   "id": "9ad9c9e2",
   "metadata": {},
   "outputs": [
    {
     "data": {
      "text/plain": [
       "array([ 4,  7, 16])"
      ]
     },
     "execution_count": 43,
     "metadata": {},
     "output_type": "execute_result"
    }
   ],
   "source": [
    "x+y"
   ]
  },
  {
   "cell_type": "code",
   "execution_count": 44,
   "id": "7dc80e3b",
   "metadata": {},
   "outputs": [
    {
     "data": {
      "text/plain": [
       "array([-2,  3, -2])"
      ]
     },
     "execution_count": 44,
     "metadata": {},
     "output_type": "execute_result"
    }
   ],
   "source": [
    "x-y"
   ]
  },
  {
   "cell_type": "code",
   "execution_count": 45,
   "id": "638b7206",
   "metadata": {},
   "outputs": [
    {
     "data": {
      "text/plain": [
       "array([ 3, 10, 63])"
      ]
     },
     "execution_count": 45,
     "metadata": {},
     "output_type": "execute_result"
    }
   ],
   "source": [
    "x*y"
   ]
  },
  {
   "cell_type": "code",
   "execution_count": 46,
   "id": "af6e950a",
   "metadata": {},
   "outputs": [
    {
     "data": {
      "text/plain": [
       "array([0.33333333, 2.5       , 0.77777778])"
      ]
     },
     "execution_count": 46,
     "metadata": {},
     "output_type": "execute_result"
    }
   ],
   "source": [
    "x/y"
   ]
  },
  {
   "cell_type": "code",
   "execution_count": 47,
   "id": "670a0c3e",
   "metadata": {},
   "outputs": [
    {
     "data": {
      "text/plain": [
       "array([0, 2, 0], dtype=int32)"
      ]
     },
     "execution_count": 47,
     "metadata": {},
     "output_type": "execute_result"
    }
   ],
   "source": [
    "x//y\n"
   ]
  },
  {
   "cell_type": "code",
   "execution_count": 48,
   "id": "42f52ad4",
   "metadata": {},
   "outputs": [
    {
     "data": {
      "text/plain": [
       "array([  9,  20, 567])"
      ]
     },
     "execution_count": 48,
     "metadata": {},
     "output_type": "execute_result"
    }
   ],
   "source": [
    "x*y**2"
   ]
  },
  {
   "cell_type": "markdown",
   "id": "e153bf82",
   "metadata": {},
   "source": [
    "# Shapes"
   ]
  },
  {
   "cell_type": "markdown",
   "id": "c6f4310e",
   "metadata": {},
   "source": [
    "# 00000\n",
    "## 11111\n",
    "## 11111\n",
    "## 11111\n",
    "## 00000"
   ]
  },
  {
   "cell_type": "code",
   "execution_count": 49,
   "id": "a0db2e02",
   "metadata": {},
   "outputs": [],
   "source": [
    "arr=np.ones((10,10))"
   ]
  },
  {
   "cell_type": "code",
   "execution_count": 50,
   "id": "f58a6f95",
   "metadata": {},
   "outputs": [
    {
     "data": {
      "text/plain": [
       "array([[1., 1., 1., 1., 1., 1., 1., 1., 1., 1.],\n",
       "       [1., 1., 1., 1., 1., 1., 1., 1., 1., 1.],\n",
       "       [1., 1., 1., 1., 1., 1., 1., 1., 1., 1.],\n",
       "       [1., 1., 1., 1., 1., 1., 1., 1., 1., 1.],\n",
       "       [1., 1., 1., 1., 1., 1., 1., 1., 1., 1.],\n",
       "       [1., 1., 1., 1., 1., 1., 1., 1., 1., 1.],\n",
       "       [1., 1., 1., 1., 1., 1., 1., 1., 1., 1.],\n",
       "       [1., 1., 1., 1., 1., 1., 1., 1., 1., 1.],\n",
       "       [1., 1., 1., 1., 1., 1., 1., 1., 1., 1.],\n",
       "       [1., 1., 1., 1., 1., 1., 1., 1., 1., 1.]])"
      ]
     },
     "execution_count": 50,
     "metadata": {},
     "output_type": "execute_result"
    }
   ],
   "source": [
    "arr"
   ]
  },
  {
   "cell_type": "code",
   "execution_count": 51,
   "id": "59d51e0a",
   "metadata": {},
   "outputs": [],
   "source": [
    "arr[0]=0\n",
    "arr[-1]=0"
   ]
  },
  {
   "cell_type": "code",
   "execution_count": 52,
   "id": "d78701e1",
   "metadata": {},
   "outputs": [
    {
     "data": {
      "text/plain": [
       "array([[0., 0., 0., 0., 0., 0., 0., 0., 0., 0.],\n",
       "       [1., 1., 1., 1., 1., 1., 1., 1., 1., 1.],\n",
       "       [1., 1., 1., 1., 1., 1., 1., 1., 1., 1.],\n",
       "       [1., 1., 1., 1., 1., 1., 1., 1., 1., 1.],\n",
       "       [1., 1., 1., 1., 1., 1., 1., 1., 1., 1.],\n",
       "       [1., 1., 1., 1., 1., 1., 1., 1., 1., 1.],\n",
       "       [1., 1., 1., 1., 1., 1., 1., 1., 1., 1.],\n",
       "       [1., 1., 1., 1., 1., 1., 1., 1., 1., 1.],\n",
       "       [1., 1., 1., 1., 1., 1., 1., 1., 1., 1.],\n",
       "       [0., 0., 0., 0., 0., 0., 0., 0., 0., 0.]])"
      ]
     },
     "execution_count": 52,
     "metadata": {},
     "output_type": "execute_result"
    }
   ],
   "source": [
    "arr"
   ]
  },
  {
   "cell_type": "markdown",
   "id": "16ff2290",
   "metadata": {},
   "source": [
    "## 00000\n",
    "## 10001\n",
    "## 10001\n",
    "## 10001\n",
    "## 00000"
   ]
  },
  {
   "cell_type": "code",
   "execution_count": 53,
   "id": "736724e8",
   "metadata": {},
   "outputs": [],
   "source": [
    "arr=np.zeros((5,5))"
   ]
  },
  {
   "cell_type": "code",
   "execution_count": 54,
   "id": "a3f8f6d9",
   "metadata": {},
   "outputs": [
    {
     "data": {
      "text/plain": [
       "array([[0., 0., 0., 0., 0.],\n",
       "       [0., 0., 0., 0., 0.],\n",
       "       [0., 0., 0., 0., 0.],\n",
       "       [0., 0., 0., 0., 0.],\n",
       "       [0., 0., 0., 0., 0.]])"
      ]
     },
     "execution_count": 54,
     "metadata": {},
     "output_type": "execute_result"
    }
   ],
   "source": [
    "arr"
   ]
  },
  {
   "cell_type": "code",
   "execution_count": 55,
   "id": "b5565e35",
   "metadata": {},
   "outputs": [],
   "source": [
    "arr[1:-1]=1"
   ]
  },
  {
   "cell_type": "code",
   "execution_count": 56,
   "id": "7a8d8dce",
   "metadata": {},
   "outputs": [
    {
     "data": {
      "text/plain": [
       "array([[0., 0., 0., 0., 0.],\n",
       "       [1., 1., 1., 1., 1.],\n",
       "       [1., 1., 1., 1., 1.],\n",
       "       [1., 1., 1., 1., 1.],\n",
       "       [0., 0., 0., 0., 0.]])"
      ]
     },
     "execution_count": 56,
     "metadata": {},
     "output_type": "execute_result"
    }
   ],
   "source": [
    "arr"
   ]
  },
  {
   "cell_type": "code",
   "execution_count": 57,
   "id": "ec10e2d3",
   "metadata": {},
   "outputs": [],
   "source": [
    "x=np.array([1,8,9,10,11])\n",
    "            #0123456  from left\n",
    "            #-6-5-4-3-2-1  from right"
   ]
  },
  {
   "cell_type": "code",
   "execution_count": 58,
   "id": "332528d6",
   "metadata": {},
   "outputs": [
    {
     "data": {
      "text/plain": [
       "11"
      ]
     },
     "execution_count": 58,
     "metadata": {},
     "output_type": "execute_result"
    }
   ],
   "source": [
    "x[-1]"
   ]
  },
  {
   "cell_type": "code",
   "execution_count": 59,
   "id": "640bc176",
   "metadata": {},
   "outputs": [
    {
     "data": {
      "text/plain": [
       "10"
      ]
     },
     "execution_count": 59,
     "metadata": {},
     "output_type": "execute_result"
    }
   ],
   "source": [
    "x[-2]"
   ]
  },
  {
   "cell_type": "code",
   "execution_count": 60,
   "id": "3bf14ca8",
   "metadata": {},
   "outputs": [
    {
     "data": {
      "text/plain": [
       "9"
      ]
     },
     "execution_count": 60,
     "metadata": {},
     "output_type": "execute_result"
    }
   ],
   "source": [
    "x[-3]"
   ]
  },
  {
   "cell_type": "markdown",
   "id": "d96aeb88",
   "metadata": {},
   "source": [
    "# Assignment\n",
    "##  1. Checkboard Pattern\n",
    "  "
   ]
  },
  {
   "cell_type": "markdown",
   "id": "85bcabfb",
   "metadata": {},
   "source": [
    "# 01010\n",
    "# 10101\n",
    "# 01010\n",
    "# 10101\n",
    "# 01010"
   ]
  },
  {
   "cell_type": "code",
   "execution_count": 61,
   "id": "25ef5283",
   "metadata": {},
   "outputs": [],
   "source": [
    "arr=np.zeros((5,5))"
   ]
  },
  {
   "cell_type": "code",
   "execution_count": 62,
   "id": "dcefb97d",
   "metadata": {},
   "outputs": [
    {
     "data": {
      "text/plain": [
       "array([[0., 0., 0., 0., 0.],\n",
       "       [0., 0., 0., 0., 0.],\n",
       "       [0., 0., 0., 0., 0.],\n",
       "       [0., 0., 0., 0., 0.],\n",
       "       [0., 0., 0., 0., 0.]])"
      ]
     },
     "execution_count": 62,
     "metadata": {},
     "output_type": "execute_result"
    }
   ],
   "source": [
    "arr"
   ]
  },
  {
   "cell_type": "code",
   "execution_count": 63,
   "id": "2ee7dbfd",
   "metadata": {},
   "outputs": [],
   "source": [
    "arr[1::2, ::2] = 1\n",
    "arr[::2, 1::2] = 1            "
   ]
  },
  {
   "cell_type": "code",
   "execution_count": 64,
   "id": "6faf6cee",
   "metadata": {},
   "outputs": [
    {
     "data": {
      "text/plain": [
       "array([[0., 1., 0., 1., 0.],\n",
       "       [1., 0., 1., 0., 1.],\n",
       "       [0., 1., 0., 1., 0.],\n",
       "       [1., 0., 1., 0., 1.],\n",
       "       [0., 1., 0., 1., 0.]])"
      ]
     },
     "execution_count": 64,
     "metadata": {},
     "output_type": "execute_result"
    }
   ],
   "source": [
    "arr"
   ]
  },
  {
   "cell_type": "markdown",
   "id": "57137acf",
   "metadata": {},
   "source": [
    "## 2. Football ground\n",
    "#### 00000\n",
    "#### 11111\n",
    "#### 00000\n",
    "#### 11111\n",
    "#### 00000\n",
    "#### 11111"
   ]
  },
  {
   "cell_type": "code",
   "execution_count": 65,
   "id": "a5147a86",
   "metadata": {},
   "outputs": [],
   "source": [
    "arr=np.zeros((5,5))"
   ]
  },
  {
   "cell_type": "code",
   "execution_count": 66,
   "id": "09a8c831",
   "metadata": {},
   "outputs": [
    {
     "data": {
      "text/plain": [
       "array([[0., 0., 0., 0., 0.],\n",
       "       [0., 0., 0., 0., 0.],\n",
       "       [0., 0., 0., 0., 0.],\n",
       "       [0., 0., 0., 0., 0.],\n",
       "       [0., 0., 0., 0., 0.]])"
      ]
     },
     "execution_count": 66,
     "metadata": {},
     "output_type": "execute_result"
    }
   ],
   "source": [
    "arr"
   ]
  },
  {
   "cell_type": "code",
   "execution_count": null,
   "id": "40afb444",
   "metadata": {},
   "outputs": [],
   "source": []
  },
  {
   "cell_type": "markdown",
   "id": "b3518558",
   "metadata": {},
   "source": [
    "# 3. Cross pattern\n",
    "\n",
    "### 01110\n",
    "### 10101\n",
    "### 11011\n",
    "### 10101\n",
    "### 01110"
   ]
  },
  {
   "cell_type": "code",
   "execution_count": null,
   "id": "7457f59d",
   "metadata": {},
   "outputs": [],
   "source": []
  },
  {
   "cell_type": "code",
   "execution_count": null,
   "id": "1f8108f9",
   "metadata": {},
   "outputs": [],
   "source": []
  },
  {
   "cell_type": "code",
   "execution_count": 67,
   "id": "e34cd411",
   "metadata": {},
   "outputs": [
    {
     "data": {
      "text/plain": [
       "array([[4.67296746e-307, 1.69121096e-306, 1.51318196e-306,\n",
       "        3.00390403e-307],\n",
       "       [1.11261027e-306, 1.11256817e-306, 1.06811422e-306,\n",
       "        1.42417221e-306],\n",
       "       [1.11260619e-306, 8.90094053e-307, 1.86919378e-306,\n",
       "        1.06809792e-306],\n",
       "       [1.37962456e-306, 1.69111861e-306, 1.78020169e-306,\n",
       "        7.56605918e-307]])"
      ]
     },
     "execution_count": 67,
     "metadata": {},
     "output_type": "execute_result"
    }
   ],
   "source": [
    "np.empty((4,4))  #Random / Arbitary values"
   ]
  },
  {
   "cell_type": "code",
   "execution_count": 68,
   "id": "79d79384",
   "metadata": {},
   "outputs": [
    {
     "data": {
      "text/plain": [
       "array([ 1,  8,  9, 10, 11])"
      ]
     },
     "execution_count": 68,
     "metadata": {},
     "output_type": "execute_result"
    }
   ],
   "source": [
    "x"
   ]
  },
  {
   "cell_type": "code",
   "execution_count": 69,
   "id": "468b424d",
   "metadata": {},
   "outputs": [
    {
     "data": {
      "text/plain": [
       "dtype('int32')"
      ]
     },
     "execution_count": 69,
     "metadata": {},
     "output_type": "execute_result"
    }
   ],
   "source": [
    "x.dtype"
   ]
  },
  {
   "cell_type": "markdown",
   "id": "d8f82e71",
   "metadata": {},
   "source": [
    "# Comparison Between Matrices"
   ]
  },
  {
   "cell_type": "code",
   "execution_count": 70,
   "id": "84bb42af",
   "metadata": {},
   "outputs": [],
   "source": [
    "salary=np.array([10,25,5,2])"
   ]
  },
  {
   "cell_type": "code",
   "execution_count": 71,
   "id": "5d5cae1b",
   "metadata": {},
   "outputs": [
    {
     "data": {
      "text/plain": [
       "array([10, 25])"
      ]
     },
     "execution_count": 71,
     "metadata": {},
     "output_type": "execute_result"
    }
   ],
   "source": [
    "salary[salary > 5]"
   ]
  },
  {
   "cell_type": "markdown",
   "id": "808640fd",
   "metadata": {},
   "source": [
    "# Numpy element-wise functions"
   ]
  },
  {
   "cell_type": "code",
   "execution_count": 72,
   "id": "71d01974",
   "metadata": {},
   "outputs": [],
   "source": [
    "nums= [10,20,56,78,90]"
   ]
  },
  {
   "cell_type": "code",
   "execution_count": 74,
   "id": "a67c991a",
   "metadata": {},
   "outputs": [
    {
     "data": {
      "text/plain": [
       "array([-0.54402111,  0.91294525, -0.521551  ,  0.51397846,  0.89399666])"
      ]
     },
     "execution_count": 74,
     "metadata": {},
     "output_type": "execute_result"
    }
   ],
   "source": [
    "np.sin(nums)"
   ]
  },
  {
   "cell_type": "code",
   "execution_count": 75,
   "id": "3f50645d",
   "metadata": {},
   "outputs": [
    {
     "data": {
      "text/plain": [
       "array([3.16227766, 4.47213595, 7.48331477, 8.83176087, 9.48683298])"
      ]
     },
     "execution_count": 75,
     "metadata": {},
     "output_type": "execute_result"
    }
   ],
   "source": [
    "np.sqrt(nums)"
   ]
  },
  {
   "cell_type": "markdown",
   "id": "00c06b7b",
   "metadata": {},
   "source": [
    "# Assignment\n",
    "* try all functions"
   ]
  },
  {
   "cell_type": "code",
   "execution_count": 77,
   "id": "e613d5d9",
   "metadata": {},
   "outputs": [
    {
     "data": {
      "text/plain": [
       "array([10., 20., 56., 78., 90.])"
      ]
     },
     "execution_count": 77,
     "metadata": {},
     "output_type": "execute_result"
    }
   ],
   "source": [
    "np.ceil(nums)"
   ]
  },
  {
   "cell_type": "code",
   "execution_count": 78,
   "id": "6f3c1ff4",
   "metadata": {},
   "outputs": [
    {
     "data": {
      "text/plain": [
       "array([1, 1, 1, 1, 1])"
      ]
     },
     "execution_count": 78,
     "metadata": {},
     "output_type": "execute_result"
    }
   ],
   "source": [
    "np.sign(nums)"
   ]
  },
  {
   "cell_type": "code",
   "execution_count": 79,
   "id": "147029b0",
   "metadata": {},
   "outputs": [
    {
     "data": {
      "text/plain": [
       "array([2.20264658e+04, 4.85165195e+08, 2.09165950e+24, 7.49841700e+33,\n",
       "       1.22040329e+39])"
      ]
     },
     "execution_count": 79,
     "metadata": {},
     "output_type": "execute_result"
    }
   ],
   "source": [
    "np.exp(nums)"
   ]
  },
  {
   "cell_type": "code",
   "execution_count": 80,
   "id": "331cfc3a",
   "metadata": {},
   "outputs": [
    {
     "data": {
      "text/plain": [
       "array([10., 20., 56., 78., 90.])"
      ]
     },
     "execution_count": 80,
     "metadata": {},
     "output_type": "execute_result"
    }
   ],
   "source": [
    "np.rint(nums)"
   ]
  },
  {
   "cell_type": "code",
   "execution_count": 81,
   "id": "07f6fcca",
   "metadata": {},
   "outputs": [
    {
     "data": {
      "text/plain": [
       "(array([0., 0., 0., 0., 0.]), array([10., 20., 56., 78., 90.]))"
      ]
     },
     "execution_count": 81,
     "metadata": {},
     "output_type": "execute_result"
    }
   ],
   "source": [
    "np.modf(nums)"
   ]
  },
  {
   "cell_type": "code",
   "execution_count": 82,
   "id": "fcccea24",
   "metadata": {},
   "outputs": [
    {
     "data": {
      "text/plain": [
       "array([10, 20, 56, 78, 90])"
      ]
     },
     "execution_count": 82,
     "metadata": {},
     "output_type": "execute_result"
    }
   ],
   "source": [
    "np.abs(nums)"
   ]
  },
  {
   "cell_type": "code",
   "execution_count": 83,
   "id": "e24df657",
   "metadata": {},
   "outputs": [
    {
     "data": {
      "text/plain": [
       "array([10., 20., 56., 78., 90.])"
      ]
     },
     "execution_count": 83,
     "metadata": {},
     "output_type": "execute_result"
    }
   ],
   "source": [
    "np.fabs(nums)"
   ]
  },
  {
   "cell_type": "code",
   "execution_count": 84,
   "id": "f7a5818a",
   "metadata": {},
   "outputs": [
    {
     "data": {
      "text/plain": [
       "array([False, False, False, False, False])"
      ]
     },
     "execution_count": 84,
     "metadata": {},
     "output_type": "execute_result"
    }
   ],
   "source": [
    "np.isnan(nums)"
   ]
  },
  {
   "cell_type": "code",
   "execution_count": 85,
   "id": "6fe6567b",
   "metadata": {},
   "outputs": [
    {
     "data": {
      "text/plain": [
       "array([ True,  True,  True,  True,  True])"
      ]
     },
     "execution_count": 85,
     "metadata": {},
     "output_type": "execute_result"
    }
   ],
   "source": [
    "np.isfinite(nums)"
   ]
  },
  {
   "cell_type": "code",
   "execution_count": 86,
   "id": "372935a3",
   "metadata": {},
   "outputs": [
    {
     "data": {
      "text/plain": [
       "array([False, False, False, False, False])"
      ]
     },
     "execution_count": 86,
     "metadata": {},
     "output_type": "execute_result"
    }
   ],
   "source": [
    "np.isinf(nums)"
   ]
  },
  {
   "cell_type": "code",
   "execution_count": 87,
   "id": "3bfac8e9",
   "metadata": {},
   "outputs": [
    {
     "data": {
      "text/plain": [
       "array([-0.83907153,  0.40808206,  0.85322011, -0.85780309, -0.44807362])"
      ]
     },
     "execution_count": 87,
     "metadata": {},
     "output_type": "execute_result"
    }
   ],
   "source": [
    "np.cos(nums)"
   ]
  },
  {
   "cell_type": "code",
   "execution_count": 88,
   "id": "5b91ad68",
   "metadata": {},
   "outputs": [
    {
     "data": {
      "text/plain": [
       "array([1.10132329e+04, 2.42582598e+08, 1.04582975e+24, 3.74920850e+33,\n",
       "       6.10201647e+38])"
      ]
     },
     "execution_count": 88,
     "metadata": {},
     "output_type": "execute_result"
    }
   ],
   "source": [
    "np.cosh(nums)"
   ]
  },
  {
   "cell_type": "code",
   "execution_count": 89,
   "id": "908d9a34",
   "metadata": {},
   "outputs": [
    {
     "data": {
      "text/plain": [
       "array([2.30258509, 2.99573227, 4.02535169, 4.35670883, 4.49980967])"
      ]
     },
     "execution_count": 89,
     "metadata": {},
     "output_type": "execute_result"
    }
   ],
   "source": [
    "np.log(nums)"
   ]
  },
  {
   "cell_type": "code",
   "execution_count": 90,
   "id": "9955035c",
   "metadata": {},
   "outputs": [
    {
     "data": {
      "text/plain": [
       "array([3.32192809, 4.32192809, 5.80735492, 6.28540222, 6.4918531 ])"
      ]
     },
     "execution_count": 90,
     "metadata": {},
     "output_type": "execute_result"
    }
   ],
   "source": [
    "np.log2(nums)"
   ]
  },
  {
   "cell_type": "code",
   "execution_count": 91,
   "id": "9fd9f2c5",
   "metadata": {},
   "outputs": [
    {
     "data": {
      "text/plain": [
       "array([2.39789527, 3.04452244, 4.04305127, 4.36944785, 4.51085951])"
      ]
     },
     "execution_count": 91,
     "metadata": {},
     "output_type": "execute_result"
    }
   ],
   "source": [
    "np.log1p(nums)"
   ]
  },
  {
   "cell_type": "code",
   "execution_count": null,
   "id": "65705186",
   "metadata": {},
   "outputs": [],
   "source": []
  }
 ],
 "metadata": {
  "kernelspec": {
   "display_name": "Python 3 (ipykernel)",
   "language": "python",
   "name": "python3"
  },
  "language_info": {
   "codemirror_mode": {
    "name": "ipython",
    "version": 3
   },
   "file_extension": ".py",
   "mimetype": "text/x-python",
   "name": "python",
   "nbconvert_exporter": "python",
   "pygments_lexer": "ipython3",
   "version": "3.9.12"
  }
 },
 "nbformat": 4,
 "nbformat_minor": 5
}
